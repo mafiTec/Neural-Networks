{
  "nbformat": 4,
  "nbformat_minor": 0,
  "metadata": {
    "colab": {
      "name": "Elmo_Word_Embedding.ipynb",
      "provenance": [],
      "mount_file_id": "1QKksDaU3mdtXHt4Aw31LgzE2IyTGXp9X",
      "authorship_tag": "ABX9TyOlhfTe/xoFnU/ERiNZ229q",
      "include_colab_link": true
    },
    "kernelspec": {
      "name": "python3",
      "display_name": "Python 3"
    },
    "language_info": {
      "name": "python"
    }
  },
  "cells": [
    {
      "cell_type": "markdown",
      "metadata": {
        "id": "view-in-github",
        "colab_type": "text"
      },
      "source": [
        "<a href=\"https://colab.research.google.com/github/mafiTec/Neural-Networks/blob/main/Elmo_Word_Embedding.ipynb\" target=\"_parent\"><img src=\"https://colab.research.google.com/assets/colab-badge.svg\" alt=\"Open In Colab\"/></a>"
      ]
    },
    {
      "cell_type": "markdown",
      "metadata": {
        "id": "g_WemDiilmSe"
      },
      "source": [
        "# Problem Statement\n",
        "\n",
        "The dataset we are refering to here contains headlines, URLs, and categories for 422,937 news stories collected by a web aggregator between March 10th, 2014 and August 10th, 2014.\n",
        "\n",
        "News categories included in this dataset include business; science and technology; entertainment; and health. Different news articles that refer to the same news item (e.g., several articles about recently released employment statistics) are also categorized together.\n",
        "\n",
        "Source:Kaggle"
      ]
    },
    {
      "cell_type": "code",
      "metadata": {
        "id": "0rvRWSNhlhfm"
      },
      "source": [
        "#Import libraries\n",
        "\n",
        "import pandas as pd\n",
        "import numpy as np\n",
        "import spacy\n",
        "from tqdm import tqdm\n",
        "import re\n",
        "import time\n",
        "import pickle\n",
        "pd.set_option('display.max_colwidth', 200)"
      ],
      "execution_count": 1,
      "outputs": []
    },
    {
      "cell_type": "code",
      "metadata": {
        "id": "iB5cWIQ3mZoz"
      },
      "source": [
        "#Read the dataset\n",
        "\n",
        "dataframe=pd.read_csv('/content/drive/MyDrive/Neural Networks/uci-news-aggregator.csv')"
      ],
      "execution_count": 2,
      "outputs": []
    },
    {
      "cell_type": "code",
      "metadata": {
        "colab": {
          "base_uri": "https://localhost:8080/",
          "height": 751
        },
        "id": "sHkF4eHHmZtm",
        "outputId": "d95919ee-d68f-4d03-9da0-4b1e9c22b4aa"
      },
      "source": [
        "dataframe.head()"
      ],
      "execution_count": 3,
      "outputs": [
        {
          "output_type": "execute_result",
          "data": {
            "text/html": [
              "<div>\n",
              "<style scoped>\n",
              "    .dataframe tbody tr th:only-of-type {\n",
              "        vertical-align: middle;\n",
              "    }\n",
              "\n",
              "    .dataframe tbody tr th {\n",
              "        vertical-align: top;\n",
              "    }\n",
              "\n",
              "    .dataframe thead th {\n",
              "        text-align: right;\n",
              "    }\n",
              "</style>\n",
              "<table border=\"1\" class=\"dataframe\">\n",
              "  <thead>\n",
              "    <tr style=\"text-align: right;\">\n",
              "      <th></th>\n",
              "      <th>ID</th>\n",
              "      <th>TITLE</th>\n",
              "      <th>URL</th>\n",
              "      <th>PUBLISHER</th>\n",
              "      <th>CATEGORY</th>\n",
              "      <th>STORY</th>\n",
              "      <th>HOSTNAME</th>\n",
              "      <th>TIMESTAMP</th>\n",
              "    </tr>\n",
              "  </thead>\n",
              "  <tbody>\n",
              "    <tr>\n",
              "      <th>0</th>\n",
              "      <td>1</td>\n",
              "      <td>Fed official says weak data caused by weather, should not slow taper</td>\n",
              "      <td>http://www.latimes.com/business/money/la-fi-mo-federal-reserve-plosser-stimulus-economy-20140310,0,1312750.story\\?track=rss</td>\n",
              "      <td>Los Angeles Times</td>\n",
              "      <td>b</td>\n",
              "      <td>ddUyU0VZz0BRneMioxUPQVP6sIxvM</td>\n",
              "      <td>www.latimes.com</td>\n",
              "      <td>1394470370698</td>\n",
              "    </tr>\n",
              "    <tr>\n",
              "      <th>1</th>\n",
              "      <td>2</td>\n",
              "      <td>Fed's Charles Plosser sees high bar for change in pace of tapering</td>\n",
              "      <td>http://www.livemint.com/Politics/H2EvwJSK2VE6OF7iK1g3PP/Feds-Charles-Plosser-sees-high-bar-for-change-in-pace-of-ta.html</td>\n",
              "      <td>Livemint</td>\n",
              "      <td>b</td>\n",
              "      <td>ddUyU0VZz0BRneMioxUPQVP6sIxvM</td>\n",
              "      <td>www.livemint.com</td>\n",
              "      <td>1394470371207</td>\n",
              "    </tr>\n",
              "    <tr>\n",
              "      <th>2</th>\n",
              "      <td>3</td>\n",
              "      <td>US open: Stocks fall after Fed official hints at accelerated tapering</td>\n",
              "      <td>http://www.ifamagazine.com/news/us-open-stocks-fall-after-fed-official-hints-at-accelerated-tapering-294436</td>\n",
              "      <td>IFA Magazine</td>\n",
              "      <td>b</td>\n",
              "      <td>ddUyU0VZz0BRneMioxUPQVP6sIxvM</td>\n",
              "      <td>www.ifamagazine.com</td>\n",
              "      <td>1394470371550</td>\n",
              "    </tr>\n",
              "    <tr>\n",
              "      <th>3</th>\n",
              "      <td>4</td>\n",
              "      <td>Fed risks falling 'behind the curve', Charles Plosser says</td>\n",
              "      <td>http://www.ifamagazine.com/news/fed-risks-falling-behind-the-curve-charles-plosser-says-294430</td>\n",
              "      <td>IFA Magazine</td>\n",
              "      <td>b</td>\n",
              "      <td>ddUyU0VZz0BRneMioxUPQVP6sIxvM</td>\n",
              "      <td>www.ifamagazine.com</td>\n",
              "      <td>1394470371793</td>\n",
              "    </tr>\n",
              "    <tr>\n",
              "      <th>4</th>\n",
              "      <td>5</td>\n",
              "      <td>Fed's Plosser: Nasty Weather Has Curbed Job Growth</td>\n",
              "      <td>http://www.moneynews.com/Economy/federal-reserve-charles-plosser-weather-job-growth/2014/03/10/id/557011</td>\n",
              "      <td>Moneynews</td>\n",
              "      <td>b</td>\n",
              "      <td>ddUyU0VZz0BRneMioxUPQVP6sIxvM</td>\n",
              "      <td>www.moneynews.com</td>\n",
              "      <td>1394470372027</td>\n",
              "    </tr>\n",
              "  </tbody>\n",
              "</table>\n",
              "</div>"
            ],
            "text/plain": [
              "   ID  ...      TIMESTAMP\n",
              "0   1  ...  1394470370698\n",
              "1   2  ...  1394470371207\n",
              "2   3  ...  1394470371550\n",
              "3   4  ...  1394470371793\n",
              "4   5  ...  1394470372027\n",
              "\n",
              "[5 rows x 8 columns]"
            ]
          },
          "metadata": {},
          "execution_count": 3
        }
      ]
    },
    {
      "cell_type": "code",
      "metadata": {
        "colab": {
          "base_uri": "https://localhost:8080/"
        },
        "id": "OHmBlf9qmm5b",
        "outputId": "914b87f8-1631-43c3-fdd5-d9a84ca8cc49"
      },
      "source": [
        "# Lets count the rows for each class\n",
        "\n",
        "dataframe['CATEGORY'].value_counts()"
      ],
      "execution_count": 4,
      "outputs": [
        {
          "output_type": "execute_result",
          "data": {
            "text/plain": [
              "e    152469\n",
              "b    115967\n",
              "t    108344\n",
              "m     45639\n",
              "Name: CATEGORY, dtype: int64"
            ]
          },
          "metadata": {},
          "execution_count": 4
        }
      ]
    },
    {
      "cell_type": "code",
      "metadata": {
        "colab": {
          "base_uri": "https://localhost:8080/",
          "height": 666
        },
        "id": "2x97JB_emm9F",
        "outputId": "61d97fff-dfeb-4d37-b815-67ab9ab47103"
      },
      "source": [
        "e = dataframe[dataframe['CATEGORY']=='e'][:45639]\n",
        "b = dataframe[dataframe['CATEGORY']=='e'][:45639]\n",
        "t = dataframe[dataframe['CATEGORY']=='t'][:45639]\n",
        "m = dataframe[dataframe['CATEGORY']=='m'][:45639]\n",
        "type(e)\n",
        "new_df=pd.concat([e,b,t,m])\n",
        "new_df.head()"
      ],
      "execution_count": 5,
      "outputs": [
        {
          "output_type": "execute_result",
          "data": {
            "text/html": [
              "<div>\n",
              "<style scoped>\n",
              "    .dataframe tbody tr th:only-of-type {\n",
              "        vertical-align: middle;\n",
              "    }\n",
              "\n",
              "    .dataframe tbody tr th {\n",
              "        vertical-align: top;\n",
              "    }\n",
              "\n",
              "    .dataframe thead th {\n",
              "        text-align: right;\n",
              "    }\n",
              "</style>\n",
              "<table border=\"1\" class=\"dataframe\">\n",
              "  <thead>\n",
              "    <tr style=\"text-align: right;\">\n",
              "      <th></th>\n",
              "      <th>ID</th>\n",
              "      <th>TITLE</th>\n",
              "      <th>URL</th>\n",
              "      <th>PUBLISHER</th>\n",
              "      <th>CATEGORY</th>\n",
              "      <th>STORY</th>\n",
              "      <th>HOSTNAME</th>\n",
              "      <th>TIMESTAMP</th>\n",
              "    </tr>\n",
              "  </thead>\n",
              "  <tbody>\n",
              "    <tr>\n",
              "      <th>2169</th>\n",
              "      <td>2170</td>\n",
              "      <td>George Zimmerman Has an Armed Life on the Move</td>\n",
              "      <td>http://www.wltx.com/story/news/nation/2014/03/10/george-zimmerman-life-trayvon-gun/6275113/</td>\n",
              "      <td>WLTX.com</td>\n",
              "      <td>e</td>\n",
              "      <td>d7RBEwyH92gFSrMjpl764nNfewB0M</td>\n",
              "      <td>www.wltx.com</td>\n",
              "      <td>1394517154092</td>\n",
              "    </tr>\n",
              "    <tr>\n",
              "      <th>2170</th>\n",
              "      <td>2171</td>\n",
              "      <td>George Zimmerman Signs Autographs At Florida Gun Show</td>\n",
              "      <td>http://www.huffingtonpost.co.uk/2014/03/10/george-zimmerman-signed-autographs_n_4938486.html\\?utm_hp_ref=uk</td>\n",
              "      <td>Huffington Post UK</td>\n",
              "      <td>e</td>\n",
              "      <td>d7RBEwyH92gFSrMjpl764nNfewB0M</td>\n",
              "      <td>www.huffingtonpost.co.uk</td>\n",
              "      <td>1394517154269</td>\n",
              "    </tr>\n",
              "    <tr>\n",
              "      <th>2171</th>\n",
              "      <td>2172</td>\n",
              "      <td>George Zimmerman Signed Autographs at an Orlando Gun Show — But Only 20  ...</td>\n",
              "      <td>http://www.blacknews.com/news/george-zimmerman-signed-autographs-at-an-orlando-gun-show-but-only-20-people-showed-up101101.html</td>\n",
              "      <td>BlackNews.com \\(press release\\)</td>\n",
              "      <td>e</td>\n",
              "      <td>d7RBEwyH92gFSrMjpl764nNfewB0M</td>\n",
              "      <td>www.blacknews.com</td>\n",
              "      <td>1394517154479</td>\n",
              "    </tr>\n",
              "    <tr>\n",
              "      <th>2172</th>\n",
              "      <td>2173</td>\n",
              "      <td>George Zimmerman back in controversy</td>\n",
              "      <td>http://www.wtxl.com/news/florida_news/george-zimmerman-back-in-controversy/article_0ca03ea0-a8c3-11e3-938c-001a4bcf6878.html</td>\n",
              "      <td>WTXL ABC 27</td>\n",
              "      <td>e</td>\n",
              "      <td>d7RBEwyH92gFSrMjpl764nNfewB0M</td>\n",
              "      <td>www.wtxl.com</td>\n",
              "      <td>1394517154639</td>\n",
              "    </tr>\n",
              "    <tr>\n",
              "      <th>2173</th>\n",
              "      <td>2174</td>\n",
              "      <td>George Zimmerman signs autographs at a Florida gun show</td>\n",
              "      <td>http://www.msnbc.com/the-last-word/zimmerman-signs-autographs-gun-show</td>\n",
              "      <td>MSNBC</td>\n",
              "      <td>e</td>\n",
              "      <td>d7RBEwyH92gFSrMjpl764nNfewB0M</td>\n",
              "      <td>www.msnbc.com</td>\n",
              "      <td>1394517154831</td>\n",
              "    </tr>\n",
              "  </tbody>\n",
              "</table>\n",
              "</div>"
            ],
            "text/plain": [
              "        ID  ...      TIMESTAMP\n",
              "2169  2170  ...  1394517154092\n",
              "2170  2171  ...  1394517154269\n",
              "2171  2172  ...  1394517154479\n",
              "2172  2173  ...  1394517154639\n",
              "2173  2174  ...  1394517154831\n",
              "\n",
              "[5 rows x 8 columns]"
            ]
          },
          "metadata": {},
          "execution_count": 5
        }
      ]
    },
    {
      "cell_type": "markdown",
      "metadata": {
        "id": "wJrXXq4Cm-ic"
      },
      "source": [
        "Create sentence embeddings\n",
        "\n",
        "New section"
      ]
    },
    {
      "cell_type": "code",
      "metadata": {
        "colab": {
          "base_uri": "https://localhost:8080/"
        },
        "id": "NvVqFzpHmm_-",
        "outputId": "60811afa-5eae-4b66-98e6-e98c08c5a855"
      },
      "source": [
        "!pip install tensorflow==1.15.0\n",
        "!pip install tensorflow_hub"
      ],
      "execution_count": 6,
      "outputs": [
        {
          "output_type": "stream",
          "name": "stdout",
          "text": [
            "Collecting tensorflow==1.15.0\n",
            "  Downloading tensorflow-1.15.0-cp37-cp37m-manylinux2010_x86_64.whl (412.3 MB)\n",
            "\u001b[K     |████████████████████████████████| 412.3 MB 22 kB/s \n",
            "\u001b[?25hCollecting gast==0.2.2\n",
            "  Downloading gast-0.2.2.tar.gz (10 kB)\n",
            "Requirement already satisfied: google-pasta>=0.1.6 in /usr/local/lib/python3.7/dist-packages (from tensorflow==1.15.0) (0.2.0)\n",
            "Requirement already satisfied: wrapt>=1.11.1 in /usr/local/lib/python3.7/dist-packages (from tensorflow==1.15.0) (1.13.3)\n",
            "Requirement already satisfied: protobuf>=3.6.1 in /usr/local/lib/python3.7/dist-packages (from tensorflow==1.15.0) (3.17.3)\n",
            "Requirement already satisfied: termcolor>=1.1.0 in /usr/local/lib/python3.7/dist-packages (from tensorflow==1.15.0) (1.1.0)\n",
            "Requirement already satisfied: astor>=0.6.0 in /usr/local/lib/python3.7/dist-packages (from tensorflow==1.15.0) (0.8.1)\n",
            "Requirement already satisfied: absl-py>=0.7.0 in /usr/local/lib/python3.7/dist-packages (from tensorflow==1.15.0) (0.12.0)\n",
            "Requirement already satisfied: grpcio>=1.8.6 in /usr/local/lib/python3.7/dist-packages (from tensorflow==1.15.0) (1.42.0)\n",
            "Requirement already satisfied: numpy<2.0,>=1.16.0 in /usr/local/lib/python3.7/dist-packages (from tensorflow==1.15.0) (1.19.5)\n",
            "Collecting keras-applications>=1.0.8\n",
            "  Downloading Keras_Applications-1.0.8-py3-none-any.whl (50 kB)\n",
            "\u001b[K     |████████████████████████████████| 50 kB 3.7 MB/s \n",
            "\u001b[?25hCollecting tensorflow-estimator==1.15.1\n",
            "  Downloading tensorflow_estimator-1.15.1-py2.py3-none-any.whl (503 kB)\n",
            "\u001b[K     |████████████████████████████████| 503 kB 43.4 MB/s \n",
            "\u001b[?25hRequirement already satisfied: opt-einsum>=2.3.2 in /usr/local/lib/python3.7/dist-packages (from tensorflow==1.15.0) (3.3.0)\n",
            "Collecting tensorboard<1.16.0,>=1.15.0\n",
            "  Downloading tensorboard-1.15.0-py3-none-any.whl (3.8 MB)\n",
            "\u001b[K     |████████████████████████████████| 3.8 MB 40.4 MB/s \n",
            "\u001b[?25hRequirement already satisfied: keras-preprocessing>=1.0.5 in /usr/local/lib/python3.7/dist-packages (from tensorflow==1.15.0) (1.1.2)\n",
            "Requirement already satisfied: wheel>=0.26 in /usr/local/lib/python3.7/dist-packages (from tensorflow==1.15.0) (0.37.0)\n",
            "Requirement already satisfied: six>=1.10.0 in /usr/local/lib/python3.7/dist-packages (from tensorflow==1.15.0) (1.15.0)\n",
            "Requirement already satisfied: h5py in /usr/local/lib/python3.7/dist-packages (from keras-applications>=1.0.8->tensorflow==1.15.0) (3.1.0)\n",
            "Requirement already satisfied: werkzeug>=0.11.15 in /usr/local/lib/python3.7/dist-packages (from tensorboard<1.16.0,>=1.15.0->tensorflow==1.15.0) (1.0.1)\n",
            "Requirement already satisfied: markdown>=2.6.8 in /usr/local/lib/python3.7/dist-packages (from tensorboard<1.16.0,>=1.15.0->tensorflow==1.15.0) (3.3.6)\n",
            "Requirement already satisfied: setuptools>=41.0.0 in /usr/local/lib/python3.7/dist-packages (from tensorboard<1.16.0,>=1.15.0->tensorflow==1.15.0) (57.4.0)\n",
            "Requirement already satisfied: importlib-metadata>=4.4 in /usr/local/lib/python3.7/dist-packages (from markdown>=2.6.8->tensorboard<1.16.0,>=1.15.0->tensorflow==1.15.0) (4.8.2)\n",
            "Requirement already satisfied: zipp>=0.5 in /usr/local/lib/python3.7/dist-packages (from importlib-metadata>=4.4->markdown>=2.6.8->tensorboard<1.16.0,>=1.15.0->tensorflow==1.15.0) (3.6.0)\n",
            "Requirement already satisfied: typing-extensions>=3.6.4 in /usr/local/lib/python3.7/dist-packages (from importlib-metadata>=4.4->markdown>=2.6.8->tensorboard<1.16.0,>=1.15.0->tensorflow==1.15.0) (3.10.0.2)\n",
            "Requirement already satisfied: cached-property in /usr/local/lib/python3.7/dist-packages (from h5py->keras-applications>=1.0.8->tensorflow==1.15.0) (1.5.2)\n",
            "Building wheels for collected packages: gast\n",
            "  Building wheel for gast (setup.py) ... \u001b[?25l\u001b[?25hdone\n",
            "  Created wheel for gast: filename=gast-0.2.2-py3-none-any.whl size=7554 sha256=119f681ee76c1a1dedfbf0d83b26d068494b3c42d97b82e95ac83e55b2236455\n",
            "  Stored in directory: /root/.cache/pip/wheels/21/7f/02/420f32a803f7d0967b48dd823da3f558c5166991bfd204eef3\n",
            "Successfully built gast\n",
            "Installing collected packages: tensorflow-estimator, tensorboard, keras-applications, gast, tensorflow\n",
            "  Attempting uninstall: tensorflow-estimator\n",
            "    Found existing installation: tensorflow-estimator 2.7.0\n",
            "    Uninstalling tensorflow-estimator-2.7.0:\n",
            "      Successfully uninstalled tensorflow-estimator-2.7.0\n",
            "  Attempting uninstall: tensorboard\n",
            "    Found existing installation: tensorboard 2.7.0\n",
            "    Uninstalling tensorboard-2.7.0:\n",
            "      Successfully uninstalled tensorboard-2.7.0\n",
            "  Attempting uninstall: gast\n",
            "    Found existing installation: gast 0.4.0\n",
            "    Uninstalling gast-0.4.0:\n",
            "      Successfully uninstalled gast-0.4.0\n",
            "  Attempting uninstall: tensorflow\n",
            "    Found existing installation: tensorflow 2.7.0\n",
            "    Uninstalling tensorflow-2.7.0:\n",
            "      Successfully uninstalled tensorflow-2.7.0\n",
            "\u001b[31mERROR: pip's dependency resolver does not currently take into account all the packages that are installed. This behaviour is the source of the following dependency conflicts.\n",
            "tensorflow-probability 0.15.0 requires gast>=0.3.2, but you have gast 0.2.2 which is incompatible.\n",
            "kapre 0.3.6 requires tensorflow>=2.0.0, but you have tensorflow 1.15.0 which is incompatible.\u001b[0m\n",
            "Successfully installed gast-0.2.2 keras-applications-1.0.8 tensorboard-1.15.0 tensorflow-1.15.0 tensorflow-estimator-1.15.1\n",
            "Requirement already satisfied: tensorflow_hub in /usr/local/lib/python3.7/dist-packages (0.12.0)\n",
            "Requirement already satisfied: protobuf>=3.8.0 in /usr/local/lib/python3.7/dist-packages (from tensorflow_hub) (3.17.3)\n",
            "Requirement already satisfied: numpy>=1.12.0 in /usr/local/lib/python3.7/dist-packages (from tensorflow_hub) (1.19.5)\n",
            "Requirement already satisfied: six>=1.9 in /usr/local/lib/python3.7/dist-packages (from protobuf>=3.8.0->tensorflow_hub) (1.15.0)\n"
          ]
        }
      ]
    },
    {
      "cell_type": "code",
      "metadata": {
        "id": "IPOuLG9PmnCX"
      },
      "source": [
        "import tensorflow_hub as hub\n",
        "import tensorflow as tf"
      ],
      "execution_count": 7,
      "outputs": []
    },
    {
      "cell_type": "code",
      "metadata": {
        "id": "UXi41Ke2mnE_"
      },
      "source": [
        "x=list(new_df['TITLE'])"
      ],
      "execution_count": 8,
      "outputs": []
    },
    {
      "cell_type": "code",
      "metadata": {
        "id": "zV4Dqn2wmnHR"
      },
      "source": [
        "elmo = hub.Module(\"https://tfhub.dev/google/elmo/2\", trainable=True)"
      ],
      "execution_count": 9,
      "outputs": []
    },
    {
      "cell_type": "code",
      "metadata": {
        "colab": {
          "base_uri": "https://localhost:8080/"
        },
        "id": "lb6EELHCmnLG",
        "outputId": "956d1767-18d1-4085-a926-4051cc59fd32"
      },
      "source": [
        "# Provide input tensor and create embeddings\n",
        "input_tensor = [\"This tutorial is on elmo embeddings from tensorflow hub \",\n",
        "        \"TensorFlow hub provides many reusable pre trained models in several domains\"]\n",
        "\n",
        "embeddings_tensor = elmo(x[:100],\n",
        "    signature=\"default\",\n",
        "    as_dict=True)[\"elmo\"]"
      ],
      "execution_count": 10,
      "outputs": [
        {
          "output_type": "stream",
          "name": "stdout",
          "text": [
            "INFO:tensorflow:Saver not created because there are no variables in the graph to restore\n"
          ]
        },
        {
          "output_type": "stream",
          "name": "stderr",
          "text": [
            "INFO:tensorflow:Saver not created because there are no variables in the graph to restore\n"
          ]
        }
      ]
    },
    {
      "cell_type": "code",
      "metadata": {
        "colab": {
          "base_uri": "https://localhost:8080/"
        },
        "id": "02tAH_nfnvon",
        "outputId": "97bd7cca-7f98-4192-ae07-679c4a6568e7"
      },
      "source": [
        "with tf.Session() as sess:\n",
        "    sess.run(tf.global_variables_initializer())\n",
        "    embeddings = sess.run(embeddings_tensor)\n",
        "    print(embeddings.shape)\n",
        "    print(embeddings)"
      ],
      "execution_count": 11,
      "outputs": [
        {
          "output_type": "stream",
          "name": "stdout",
          "text": [
            "(100, 16, 1024)\n",
            "[[[-0.6392205  -0.65110976 -0.34721714 ... -0.04088937 -0.10432049\n",
            "   -0.4799287 ]\n",
            "  [-0.02087877 -0.3912147   0.03618242 ... -0.12097799  0.19085339\n",
            "   -0.23720494]\n",
            "  [-0.4240775   0.20260103 -0.23037198 ...  0.11948571  0.53770876\n",
            "    0.02501076]\n",
            "  ...\n",
            "  [-0.02840841 -0.04353216  0.04130162 ...  0.02583168 -0.01429836\n",
            "   -0.01650422]\n",
            "  [-0.02840841 -0.04353216  0.04130162 ...  0.02583168 -0.01429836\n",
            "   -0.01650422]\n",
            "  [-0.02840841 -0.04353216  0.04130162 ...  0.02583168 -0.01429836\n",
            "   -0.01650422]]\n",
            "\n",
            " [[-0.6392205  -0.65110976 -0.34721714 ... -0.16485338 -0.18690848\n",
            "   -0.29432395]\n",
            "  [-0.02087877 -0.3912147   0.03618242 ... -0.49658692  0.11658592\n",
            "   -0.03891286]\n",
            "  [-0.06946222  0.77510756  0.078308   ...  0.14057837  0.16227551\n",
            "   -0.11987554]\n",
            "  ...\n",
            "  [-0.02840841 -0.04353216  0.04130162 ...  0.02583168 -0.01429836\n",
            "   -0.01650422]\n",
            "  [-0.02840841 -0.04353216  0.04130162 ...  0.02583168 -0.01429836\n",
            "   -0.01650422]\n",
            "  [-0.02840841 -0.04353216  0.04130162 ...  0.02583168 -0.01429836\n",
            "   -0.01650422]]\n",
            "\n",
            " [[-0.6392205  -0.65110976 -0.34721714 ... -0.3409062  -0.25926912\n",
            "   -0.22318256]\n",
            "  [-0.02087877 -0.3912147   0.03618242 ... -0.4941908   0.05411169\n",
            "    0.14461964]\n",
            "  [-0.7093986   0.10933129 -0.48605984 ...  0.06030739  0.05316962\n",
            "   -0.08290966]\n",
            "  ...\n",
            "  [-0.14670813 -0.01944728 -0.4378369  ...  0.33431923  0.16028169\n",
            "    0.8101481 ]\n",
            "  [-0.02840841 -0.04353216  0.04130162 ...  0.02583168 -0.01429836\n",
            "   -0.01650422]\n",
            "  [-0.02840841 -0.04353216  0.04130162 ...  0.02583168 -0.01429836\n",
            "   -0.01650422]]\n",
            "\n",
            " ...\n",
            "\n",
            " [[ 1.2605124   0.18743953 -0.30585986 ... -0.19784282  0.5896331\n",
            "    0.33722425]\n",
            "  [ 0.07481434 -0.2642523   1.0209267  ... -1.3036535   0.2825113\n",
            "   -0.06475899]\n",
            "  [ 0.33381116 -0.8382909  -0.18397948 ...  0.6674535   0.55267644\n",
            "   -0.0624251 ]\n",
            "  ...\n",
            "  [-0.02840841 -0.04353216  0.04130162 ...  0.02583168 -0.01429836\n",
            "   -0.01650422]\n",
            "  [-0.02840841 -0.04353216  0.04130162 ...  0.02583168 -0.01429836\n",
            "   -0.01650422]\n",
            "  [-0.02840841 -0.04353216  0.04130162 ...  0.02583168 -0.01429836\n",
            "   -0.01650422]]\n",
            "\n",
            " [[-0.73790634 -0.30125692  0.22274949 ... -0.2424341  -0.16880108\n",
            "   -0.39305508]\n",
            "  [ 0.08742914 -0.15311448  0.5736046  ... -1.4316854  -0.0921811\n",
            "    0.10433868]\n",
            "  [-0.7488661  -0.03842826 -0.03281027 ... -0.04544619 -0.5091896\n",
            "    0.02292691]\n",
            "  ...\n",
            "  [-0.02840841 -0.04353216  0.04130162 ...  0.02583168 -0.01429836\n",
            "   -0.01650422]\n",
            "  [-0.02840841 -0.04353216  0.04130162 ...  0.02583168 -0.01429836\n",
            "   -0.01650422]\n",
            "  [-0.02840841 -0.04353216  0.04130162 ...  0.02583168 -0.01429836\n",
            "   -0.01650422]]\n",
            "\n",
            " [[ 1.2605124   0.18743953 -0.30585986 ...  0.04642144  0.03950474\n",
            "    0.21715963]\n",
            "  [-0.44155672 -0.6611518   0.79246765 ... -1.0482272  -0.5924298\n",
            "   -0.09969805]\n",
            "  [ 0.42701256 -0.7241999  -0.45350593 ...  1.1079587   0.33852717\n",
            "    0.10664985]\n",
            "  ...\n",
            "  [-0.02840841 -0.04353216  0.04130162 ...  0.02583168 -0.01429836\n",
            "   -0.01650422]\n",
            "  [-0.02840841 -0.04353216  0.04130162 ...  0.02583168 -0.01429836\n",
            "   -0.01650422]\n",
            "  [-0.02840841 -0.04353216  0.04130162 ...  0.02583168 -0.01429836\n",
            "   -0.01650422]]]\n"
          ]
        }
      ]
    },
    {
      "cell_type": "code",
      "metadata": {
        "id": "UvrI8wpRnvxd"
      },
      "source": [
        ""
      ],
      "execution_count": null,
      "outputs": []
    },
    {
      "cell_type": "code",
      "metadata": {
        "id": "dcIsTfEonv0Z"
      },
      "source": [
        ""
      ],
      "execution_count": null,
      "outputs": []
    },
    {
      "cell_type": "code",
      "metadata": {
        "id": "BjfHLJgknv7r"
      },
      "source": [
        ""
      ],
      "execution_count": null,
      "outputs": []
    }
  ]
}